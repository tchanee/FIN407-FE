{
 "cells": [
  {
   "cell_type": "code",
   "execution_count": 80,
   "metadata": {},
   "outputs": [
    {
     "name": "stdout",
     "output_type": "stream",
     "text": [
      "The autoreload extension is already loaded. To reload it, use:\n",
      "  %reload_ext autoreload\n"
     ]
    }
   ],
   "source": [
    "import sys\n",
    "sys.path.append(\"../modules\")\n",
    "\n",
    "from nlp import BERTWrapperForSA\n",
    "from nlp import VaderSentimentWrapper\n",
    "\n",
    "%load_ext autoreload\n",
    "%autoreload 2"
   ]
  },
  {
   "cell_type": "code",
   "execution_count": 85,
   "metadata": {},
   "outputs": [],
   "source": [
    "texts = [\n",
    "    \"Tesla is better than Ford\",\n",
    "    \"OpenAI, SpaceX, NeuraLink and Tesla were founded or co-founded by Elon Musk\", \n",
    "    \"Tesla no longer accepts payments in Bitcoin\",\n",
    "    \"SpaceX's ship exploded\",\n",
    "    \"the S&P 500 financial index is at an all time low\",\n",
    "    \"stock prices have remained stagnant since covid\",\n",
    "    \"I'm gonna put coke back in Cola\",\n",
    "    \"The stocks have gone up so much, I'm gonna sell them.\"]"
   ]
  },
  {
   "attachments": {},
   "cell_type": "markdown",
   "metadata": {},
   "source": [
    "### BERT SA TESTS"
   ]
  },
  {
   "cell_type": "code",
   "execution_count": 90,
   "metadata": {},
   "outputs": [],
   "source": [
    "# sa_model_wrapper = BERTWrapperForSA(BERTWrapperForSA.FIN_BERT_ID)\n",
    "sa_model_wrapper = BERTWrapperForSA.load_from(\"../models/finbert\")"
   ]
  },
  {
   "cell_type": "code",
   "execution_count": 93,
   "metadata": {},
   "outputs": [
    {
     "data": {
      "text/plain": [
       "['neutral',\n",
       " 'neutral',\n",
       " 'neutral',\n",
       " 'neutral',\n",
       " 'neutral',\n",
       " 'negative',\n",
       " 'neutral',\n",
       " 'neutral']"
      ]
     },
     "execution_count": 93,
     "metadata": {},
     "output_type": "execute_result"
    }
   ],
   "source": [
    "sa_model_wrapper(texts) # uses greedy decoding by default"
   ]
  },
  {
   "cell_type": "code",
   "execution_count": 96,
   "metadata": {},
   "outputs": [
    {
     "data": {
      "text/plain": [
       "tensor([[0.4828, 0.0108, 0.5063],\n",
       "        [0.0276, 0.0201, 0.9523],\n",
       "        [0.0172, 0.0782, 0.9046],\n",
       "        [0.0405, 0.0250, 0.9346],\n",
       "        [0.2450, 0.0427, 0.7123],\n",
       "        [0.0205, 0.9325, 0.0470],\n",
       "        [0.0851, 0.0214, 0.8936],\n",
       "        [0.2863, 0.1126, 0.6011]])"
      ]
     },
     "execution_count": 96,
     "metadata": {},
     "output_type": "execute_result"
    }
   ],
   "source": [
    "sa_model_wrapper.predict(texts)"
   ]
  },
  {
   "cell_type": "code",
   "execution_count": 97,
   "metadata": {},
   "outputs": [
    {
     "data": {
      "text/plain": [
       "['neutral',\n",
       " 'neutral',\n",
       " 'neutral',\n",
       " 'neutral',\n",
       " 'neutral',\n",
       " 'negative',\n",
       " 'neutral',\n",
       " 'neutral']"
      ]
     },
     "execution_count": 97,
     "metadata": {},
     "output_type": "execute_result"
    }
   ],
   "source": [
    "sa_model_wrapper(texts)"
   ]
  },
  {
   "cell_type": "code",
   "execution_count": 98,
   "metadata": {},
   "outputs": [
    {
     "data": {
      "text/plain": [
       "['positive',\n",
       " 'neutral',\n",
       " 'neutral',\n",
       " 'neutral',\n",
       " 'neutral',\n",
       " 'negative',\n",
       " 'neutral',\n",
       " 'positive']"
      ]
     },
     "execution_count": 98,
     "metadata": {},
     "output_type": "execute_result"
    }
   ],
   "source": [
    "sa_model_wrapper(texts, decoding=\"amplified\")"
   ]
  },
  {
   "attachments": {},
   "cell_type": "markdown",
   "metadata": {},
   "source": [
    "### VADER SA TESTS"
   ]
  },
  {
   "cell_type": "code",
   "execution_count": 81,
   "metadata": {},
   "outputs": [],
   "source": [
    "vader_wrapper = VaderSentimentWrapper()"
   ]
  },
  {
   "cell_type": "code",
   "execution_count": 82,
   "metadata": {},
   "outputs": [
    {
     "data": {
      "text/plain": [
       "[{'neg': 0.0, 'neu': 0.58, 'pos': 0.42},\n",
       " {'neg': 0.0, 'neu': 1.0, 'pos': 0.0},\n",
       " {'neg': 0.454, 'neu': 0.546, 'pos': 0.0},\n",
       " {'neg': 0.0, 'neu': 1.0, 'pos': 0.0},\n",
       " {'neg': 0.174, 'neu': 0.826, 'pos': 0.0},\n",
       " {'neg': 0.0, 'neu': 1.0, 'pos': 0.0},\n",
       " {'neg': 0.0, 'neu': 1.0, 'pos': 0.0},\n",
       " {'neg': 0.0, 'neu': 1.0, 'pos': 0.0}]"
      ]
     },
     "execution_count": 82,
     "metadata": {},
     "output_type": "execute_result"
    }
   ],
   "source": [
    "vader_wrapper.compute_scores(texts)"
   ]
  },
  {
   "cell_type": "code",
   "execution_count": 83,
   "metadata": {},
   "outputs": [
    {
     "data": {
      "text/plain": [
       "['neutral',\n",
       " 'neutral',\n",
       " 'neutral',\n",
       " 'neutral',\n",
       " 'neutral',\n",
       " 'neutral',\n",
       " 'neutral',\n",
       " 'neutral']"
      ]
     },
     "execution_count": 83,
     "metadata": {},
     "output_type": "execute_result"
    }
   ],
   "source": [
    "vader_wrapper(texts, decoding=\"greedy\")"
   ]
  },
  {
   "cell_type": "code",
   "execution_count": 84,
   "metadata": {},
   "outputs": [
    {
     "data": {
      "text/plain": [
       "['positive',\n",
       " 'neutral',\n",
       " 'negative',\n",
       " 'neutral',\n",
       " 'neutral',\n",
       " 'neutral',\n",
       " 'neutral',\n",
       " 'neutral']"
      ]
     },
     "execution_count": 84,
     "metadata": {},
     "output_type": "execute_result"
    }
   ],
   "source": [
    "vader_wrapper(texts, decoding=\"amplified\")"
   ]
  }
 ],
 "metadata": {
  "kernelspec": {
   "display_name": "mnlp-py3-9",
   "language": "python",
   "name": "python3"
  },
  "language_info": {
   "codemirror_mode": {
    "name": "ipython",
    "version": 3
   },
   "file_extension": ".py",
   "mimetype": "text/x-python",
   "name": "python",
   "nbconvert_exporter": "python",
   "pygments_lexer": "ipython3",
   "version": "3.9.16"
  },
  "orig_nbformat": 4
 },
 "nbformat": 4,
 "nbformat_minor": 2
}
